{
 "cells": [
  {
   "cell_type": "markdown",
   "metadata": {},
   "source": [
    "### Soal 1: Memecahkan Masalah Unik dengan Loop dan If-Else\n",
    "**Soal**: Buatlah program yang dapat menghasilkan pola berbentuk angka seperti di bawah ini, dengan syarat angka yang ditampilkan adalah hasil dari penjumlahan bilangan prima sebelumnya:\n",
    "```\n",
    "1\n",
    "2 3\n",
    "5 7 11\n",
    "13 17 19 23\n",
    "...\n",
    "```\n",
    "Jumlah angka pada setiap baris bertambah 1, dan bilangan yang ditampilkan adalah bilangan prima.\n",
    "\n"
   ]
  },
  {
   "cell_type": "code",
   "execution_count": 27,
   "metadata": {},
   "outputs": [
    {
     "name": "stdout",
     "output_type": "stream",
     "text": [
      "1 \n",
      "2 3 \n",
      "5 7 11 \n",
      "13 17 19 23 \n"
     ]
    }
   ],
   "source": [
    "def is_prime(n):\n",
    "    if n <= 1:\n",
    "        return False\n",
    "    for i in range(2, int(n**0.5) + 1):\n",
    "        if n % i == 0:\n",
    "            return False\n",
    "    return True\n",
    "\n",
    "def generate_primes(count):\n",
    "    primes = [1] \n",
    "    num = 2 \n",
    "    while len(primes) < count:\n",
    "        if is_prime(num):\n",
    "            primes.append(num)\n",
    "        num += 1\n",
    "    return primes\n",
    "\n",
    "def print_prime_pattern(rows):\n",
    "    total_numbers = (rows * (rows + 1)) // 2 \n",
    "    numbers = generate_primes(total_numbers)\n",
    "\n",
    "    index = 0\n",
    "    for i in range(1, rows + 1):\n",
    "        for j in range(i):\n",
    "            print(numbers[index], end=' ')\n",
    "            index += 1\n",
    "        print()  \n",
    "\n",
    "\n",
    "try:\n",
    "    num_rows = int(input(\"Input jumlah baris: \"))\n",
    "    print_prime_pattern(num_rows)\n",
    "except ValueError:\n",
    "    print(\"Silakan masukkan angka yang valid.\")\n"
   ]
  },
  {
   "cell_type": "markdown",
   "metadata": {},
   "source": [
    "### Soal 2: Membuat Fungsi dengan Syarat Spesifik\n",
    "**Soal**: Buatlah sebuah fungsi yang menerima dua input berupa list angka. Fungsi ini harus mengembalikan sebuah list baru yang berisi elemen dari dua list input yang memiliki indeks ganjil. List baru tersebut juga harus diurutkan secara menurun berdasarkan nilai elemen.\n"
   ]
  },
  {
   "cell_type": "code",
   "execution_count": 4,
   "metadata": {},
   "outputs": [
    {
     "name": "stdout",
     "output_type": "stream",
     "text": [
      "[7, 6, 5, 3]\n"
     ]
    }
   ],
   "source": [
    "def get_odd_index_elements(list1, list2):\n",
    "    odd_index_elements = [list1[i] for i in range(len(list1)) if i % 2 != 0] + \\\n",
    "                         [list2[i] for i in range(len(list2)) if i % 2 != 0]\n",
    "    odd_index_elements.sort(reverse=True)\n",
    "\n",
    "    return odd_index_elements\n",
    "list1 = [4, 3, 2, 7, 9]\n",
    "list2 = [8, 6, 1, 5,0]\n",
    "\n",
    "result = get_odd_index_elements(list1, list2)\n",
    "print(result)"
   ]
  },
  {
   "cell_type": "markdown",
   "metadata": {},
   "source": [
    "### Soal 3: Exception Handling dalam Konteks Nyata\n",
    "**Soal**: Buat sebuah program untuk mensimulasikan transaksi ATM. Program harus:\n",
    "1. Meminta pengguna memasukkan PIN (dibatasi 3 kali percobaan).\n",
    "2. Setelah PIN benar, meminta jumlah penarikan.\n",
    "3. Jika saldo kurang dari jumlah yang ditarik, munculkan pesan kesalahan.\n",
    "4. Jika penarikan berhasil, tampilkan saldo akhir.\n"
   ]
  },
  {
   "cell_type": "code",
   "execution_count": 5,
   "metadata": {},
   "outputs": [
    {
     "name": "stdout",
     "output_type": "stream",
     "text": [
      "PIN kamu salah,  Percobaan kamu tersisa: 2\n",
      "PIN kamu salah,  Percobaan kamu tersisa: 1\n",
      "PIN kamu benar\n",
      "Penarikan kamu berhasil! Saldo akhir kamu: 1480000.0\n"
     ]
    }
   ],
   "source": [
    "class ATM:\n",
    "    def __init__(self, pin, saldo):\n",
    "        self.pin = pin\n",
    "        self.saldo = saldo\n",
    "\n",
    "    def validate_pin(self):\n",
    "        attempts = 0\n",
    "        while attempts < 3:\n",
    "            user_pin = input(\"Masukkan PIN kamu: \")\n",
    "            if user_pin == self.pin:\n",
    "                print(\"PIN kamu benar\")\n",
    "                return True\n",
    "            else:\n",
    "                attempts += 1\n",
    "                print(f\"PIN kamu salah,  Percobaan kamu tersisa: {3 - attempts}\")\n",
    "        print(\"Kamu sudah mencoba 3 kali. Akses ditolak.\")\n",
    "        return False\n",
    "\n",
    "    def withdraw(self):\n",
    "        if not self.validate_pin():\n",
    "            return\n",
    "        \n",
    "        try:\n",
    "            amount = float(input(\"Masukkan jumlah penarikan: \"))\n",
    "            if amount <= 0:\n",
    "                raise ValueError(\"Jumlah penarikan kamu harus lebih besar dari nol.\")\n",
    "            if amount > self.saldo:\n",
    "                raise ValueError(\"Saldo kamu tidak cukup untuk melakukan penarikan.\")\n",
    "            \n",
    "            self.saldo -= amount\n",
    "            print(f\"Penarikan kamu berhasil! Saldo akhir kamu: {self.saldo}\")\n",
    "        \n",
    "        except ValueError as e:\n",
    "            print(f\"Kesalahan: {e}\")\n",
    "if __name__ == \"__main__\":\n",
    "    atm = ATM(pin=\"6666\", saldo=1500000)  \n",
    "    atm.withdraw()"
   ]
  },
  {
   "cell_type": "markdown",
   "metadata": {},
   "source": [
    "### Soal 4: Studi Kasus Pengelolaan Data\n",
    "**Soal**: Anda diberikan file CSV berisi data nilai ujian mahasiswa. Tugas Anda adalah menulis sebuah program yang:\n",
    "1. Membaca file CSV dan menyimpan datanya ke dalam dictionary.\n",
    "2. Menghitung rata-rata nilai tiap mahasiswa.\n",
    "3. Menampilkan mahasiswa dengan nilai tertinggi dan terendah.\n"
   ]
  },
  {
   "cell_type": "code",
   "execution_count": 22,
   "metadata": {},
   "outputs": [
    {
     "name": "stdout",
     "output_type": "stream",
     "text": [
      "Rata-rata nilai tiap mahasiswa:\n",
      "Siswa_1: 59.00\n",
      "Siswa_2: 79.00\n",
      "Siswa_3: 61.00\n",
      "Siswa_4: 74.00\n",
      "Siswa_5: 50.00\n",
      "Siswa_6: 70.00\n",
      "Siswa_7: 100.00\n",
      "Siswa_8: 84.00\n",
      "Siswa_9: 78.00\n",
      "Siswa_10: 61.00\n",
      "Siswa_11: 92.00\n",
      "Siswa_12: 60.00\n",
      "Siswa_13: 78.00\n",
      "Siswa_14: 87.00\n",
      "Siswa_15: 57.00\n",
      "Siswa_16: 73.00\n",
      "Siswa_17: 53.00\n",
      "Siswa_18: 54.00\n",
      "Siswa_19: 97.00\n",
      "Siswa_20: 52.00\n",
      "Siswa_21: 84.00\n",
      "Siswa_22: 89.00\n",
      "Siswa_23: 52.00\n",
      "Siswa_24: 90.00\n",
      "Siswa_25: 52.00\n",
      "Siswa_26: 64.00\n",
      "Siswa_27: 96.00\n",
      "Siswa_28: 100.00\n",
      "Siswa_29: 84.00\n",
      "Siswa_30: 60.00\n",
      "Siswa_31: 85.00\n",
      "Siswa_32: 63.00\n",
      "Siswa_33: 64.00\n",
      "Siswa_34: 68.00\n",
      "Siswa_35: 67.00\n",
      "Siswa_36: 52.00\n",
      "Siswa_37: 79.00\n",
      "Siswa_38: 55.00\n",
      "Siswa_39: 88.00\n",
      "Siswa_40: 95.00\n",
      "Siswa_41: 78.00\n",
      "Siswa_42: 66.00\n",
      "Siswa_43: 71.00\n",
      "Siswa_44: 64.00\n",
      "Siswa_45: 51.00\n",
      "Siswa_46: 77.00\n",
      "Siswa_47: 90.00\n",
      "Siswa_48: 83.00\n",
      "Siswa_49: 99.00\n",
      "Siswa_50: 56.00\n",
      "Siswa_51: 68.00\n",
      "Siswa_52: 88.00\n",
      "Siswa_53: 62.00\n",
      "Siswa_54: 98.00\n",
      "Siswa_55: 58.00\n",
      "Siswa_56: 92.00\n",
      "Siswa_57: 60.00\n",
      "Siswa_58: 55.00\n",
      "Siswa_59: 93.00\n",
      "Siswa_60: 60.00\n",
      "Siswa_61: 53.00\n",
      "Siswa_62: 79.00\n",
      "Siswa_63: 75.00\n",
      "Siswa_64: 83.00\n",
      "Siswa_65: 58.00\n",
      "Siswa_66: 50.00\n",
      "Siswa_67: 75.00\n",
      "Siswa_68: 61.00\n",
      "Siswa_69: 57.00\n",
      "Siswa_70: 98.00\n",
      "Siswa_71: 85.00\n",
      "Siswa_72: 57.00\n",
      "Siswa_73: 53.00\n",
      "Siswa_74: 55.00\n",
      "Siswa_75: 54.00\n",
      "Siswa_76: 64.00\n",
      "Siswa_77: 51.00\n",
      "Siswa_78: 65.00\n",
      "Siswa_79: 68.00\n",
      "Siswa_80: 51.00\n",
      "Siswa_81: 99.00\n",
      "Siswa_82: 89.00\n",
      "Siswa_83: 92.00\n",
      "Siswa_84: 56.00\n",
      "Siswa_85: 96.00\n",
      "Siswa_86: 79.00\n",
      "Siswa_87: 76.00\n",
      "Siswa_88: 71.00\n",
      "Siswa_89: 98.00\n",
      "Siswa_90: 89.00\n",
      "Siswa_91: 92.00\n",
      "Siswa_92: 65.00\n",
      "Siswa_93: 50.00\n",
      "Siswa_94: 84.00\n",
      "Siswa_95: 67.00\n",
      "Siswa_96: 59.00\n",
      "Siswa_97: 57.00\n",
      "Siswa_98: 70.00\n",
      "Siswa_99: 66.00\n",
      "Siswa_100: 78.00\n",
      "\n",
      "Mahasiswa dengan nilai tertinggi: Siswa_7 (100.00)\n",
      "Mahasiswa dengan nilai terendah: Siswa_5 (50.00)\n"
     ]
    }
   ],
   "source": [
    "import csv\n",
    "\n",
    "def baca_csv(nama_file):\n",
    "    data_mahasiswa = {}\n",
    "    with open(nama_file, mode='r') as file:\n",
    "        csv_reader = csv.reader(file)\n",
    "        header = next(csv_reader) \n",
    "        for row in csv_reader:\n",
    "            nama = row[0]\n",
    "            nilai = list(map(float, row[1:]))  \n",
    "            data_mahasiswa[nama] = nilai\n",
    "    return data_mahasiswa\n",
    "\n",
    "def hitung_rata_rata(data_mahasiswa):\n",
    "    rata_rata = {}\n",
    "    for nama, nilai in data_mahasiswa.items():\n",
    "        rata_rata[nama] = sum(nilai) / len(nilai) if nilai else 0 \n",
    "    return rata_rata\n",
    "\n",
    "def nilai_ekstrem(rata_rata):\n",
    "    mahasiswa_tertinggi = max(rata_rata, key=rata_rata.get)\n",
    "    mahasiswa_terendah = min(rata_rata, key=rata_rata.get)\n",
    "    return mahasiswa_tertinggi, mahasiswa_terendah\n",
    "\n",
    "def main(nama_file):\n",
    "    data_mahasiswa = baca_csv(nama_file)\n",
    "    rata_rata = hitung_rata_rata(data_mahasiswa)\n",
    "    \n",
    "\n",
    "    print(\"Rata-rata nilai tiap mahasiswa:\")\n",
    "    for nama, rata in rata_rata.items():\n",
    "        print(f\"{nama}: {rata:.2f}\")\n",
    "    \n",
    "\n",
    "    tertinggi, terendah = nilai_ekstrem(rata_rata)\n",
    "    print(f\"\\nMahasiswa dengan nilai tertinggi: {tertinggi} ({rata_rata[tertinggi]:.2f})\")\n",
    "    print(f\"Mahasiswa dengan nilai terendah: {terendah} ({rata_rata[terendah]:.2f})\")\n",
    "\n",
    "\n",
    "if __name__ == \"__main__\":\n",
    "    nama_file = 'siswa_nilaii.csv'\n",
    "    main(nama_file)"
   ]
  },
  {
   "cell_type": "markdown",
   "metadata": {},
   "source": [
    "### Soal 5: Kombinasi Logika dan Kreativitas\n",
    "**Soal**: Buatlah permainan sederhana menggunakan Python, di mana komputer akan memilih sebuah angka secara acak antara 1 hingga 100, dan pengguna harus menebak angka tersebut. Setiap tebakan yang salah akan memberikan petunjuk apakah angka yang ditebak lebih besar atau lebih kecil dari angka sebenarnya. Batasi jumlah percobaan menjadi 5 kali. Setelah permainan selesai, tampilkan apakah pemain menang atau kalah.\n"
   ]
  },
  {
   "cell_type": "code",
   "execution_count": 24,
   "metadata": {},
   "outputs": [
    {
     "name": "stdout",
     "output_type": "stream",
     "text": [
      "============================================================\n",
      "Hai!! Selamat datang di permainan Tebak Angka\n",
      "Tebaklah angka dari 1 hingga 100.\n",
      "Kamu memiliki 5 kesempatan untuk menebak angka tersebut.\n",
      "============================================================\n",
      "Tebakan angka kamu terlalu besar.\n",
      "Tebakan angka kamu terlalu besar.\n",
      "Tebakan angka kamu terlalu besar.\n",
      "Tebakan angkka kamu terlalu kecil.\n",
      "Tebakan angkka kamu terlalu kecil.\n",
      "Yahh kecewa! kamu kesempatan kamu habis. Angka yang benar yaitu 21.\n"
     ]
    }
   ],
   "source": [
    "import random\n",
    "\n",
    "def main():\n",
    "    secret_number = random.randint(1, 100)\n",
    "    attempts = 5\n",
    "\n",
    "    print('=' * 60)\n",
    "    print(\"Hai!! Selamat datang di permainan Tebak Angka\")\n",
    "    print(\"Tebaklah angka dari 1 hingga 100.\")\n",
    "    print(f\"Kamu memiliki {attempts} kesempatan untuk menebak angka tersebut.\")\n",
    "    print('=' * 60)\n",
    "\n",
    "    for attempt in range(attempts):\n",
    "        try:\n",
    "            guess = int(input(f\"Kesempatan ke-{attempt + 1}: \"))\n",
    "            \n",
    "            if guess < 1 or guess > 100:\n",
    "                print(\"Tebakan kamu harus berada di antara 1 dan 100. Coba lagi.\")\n",
    "                continue\n",
    "            \n",
    "            if guess < secret_number:\n",
    "                print(\"Tebakan angkka kamu terlalu kecil.\")\n",
    "            elif guess > secret_number:\n",
    "                print(\"Tebakan angka kamu terlalu besar.\")\n",
    "            else:\n",
    "                print(f\"Selamat! kamu berhasil menebak angka {secret_number} dengan benar!\")\n",
    "                break\n",
    "        except ValueError:\n",
    "            print(\"Masukkan hanya angka. Coba lagi.\")\n",
    "\n",
    "    else:\n",
    "        print(f\"Yahh kecewa! kamu kesempatan kamu habis. Angka yang benar yaitu {secret_number}.\")\n",
    "\n",
    "if __name__ == \"__main__\":\n",
    "    main()"
   ]
  },
  {
   "cell_type": "markdown",
   "metadata": {},
   "source": [
    "### Soal 6: Rekursi yang Tidak Biasa\n",
    "**Soal**: Buat fungsi rekursif yang menerima input bilangan bulat `n` dan menghasilkan urutan bilangan seperti berikut ini:\n",
    "```\n",
    "Input: n = 4\n",
    "Output: 1, 1, 2, 6, 24\n",
    "```\n",
    "Fungsi ini harus menggunakan konsep rekursi untuk menghitung faktorial setiap angka hingga `n`.\n"
   ]
  },
  {
   "cell_type": "code",
   "execution_count": 14,
   "metadata": {},
   "outputs": [
    {
     "name": "stdout",
     "output_type": "stream",
     "text": [
      "Urutan Faktorial dari 0 sampai 4 yaitu:\n",
      "[1, 1, 2, 6, 24]\n"
     ]
    }
   ],
   "source": [
    "def factorial(n):\n",
    "\n",
    "    if n == 0:\n",
    "        return 1\n",
    "  \n",
    "    return n * factorial(n - 1)\n",
    "\n",
    "def generate_factorial_sequence(n):\n",
    "  \n",
    "    result = []\n",
    "    for i in range(n + 1):  \n",
    "        result.append(factorial(i))   \n",
    "    return result\n",
    "\n",
    "\n",
    "n = int(input(\"Input nilai n: \"))\n",
    "\n",
    "\n",
    "output = generate_factorial_sequence(n)\n",
    "print(\"Urutan Faktorial dari 0 sampai\", n, \"yaitu:\")\n",
    "print(output)"
   ]
  },
  {
   "cell_type": "markdown",
   "metadata": {},
   "source": [
    "### Soal 7: Pemrograman dengan Algoritma Greedy\n",
    "**Soal**: Buatlah program untuk memecahkan masalah \"minimum coin change\". Diberikan jumlah uang dan daftar nilai koin yang tersedia (misalnya, 1, 5, 10, 25), tentukan kombinasi minimum koin yang diperlukan untuk mencapai jumlah uang tersebut. Namun, program Anda harus bisa menangani koin-koin yang nilai dan jumlahnya ditentukan pengguna.\n"
   ]
  },
  {
   "cell_type": "code",
   "execution_count": 16,
   "metadata": {},
   "outputs": [
    {
     "name": "stdout",
     "output_type": "stream",
     "text": [
      "Kombinasi minimum koin yang diperlukan:\n",
      "Koin 3: 1 buah\n",
      "Koin 2: 1 buah\n"
     ]
    }
   ],
   "source": [
    "def min_coin_change(amount, coins):\n",
    "    \n",
    "    coins.sort(reverse=True)\n",
    "    coin_count = {}  \n",
    "    for coin in coins:\n",
    "        if amount <= 0:\n",
    "            break\n",
    "        \n",
    "        count = amount // coin\n",
    "        if count > 0:\n",
    "            coin_count[coin] = count\n",
    "            amount -= coin * count\n",
    "\n",
    "    if amount > 0:\n",
    "        print(\"Tidak akan mencapai jumlah tersebut dengan koin yang tersedia.\")\n",
    "    else:\n",
    "        print(\"Kombinasi minimum koin yang diperlukan:\")\n",
    "        for coin, count in coin_count.items():\n",
    "            print(f\"Koin {coin}: {count} buah\")\n",
    "\n",
    "# Minta input dari pengguna\n",
    "try:\n",
    "    amount = int(input(\"Masukkan jumlah uang yang ingin dicapai: \"))\n",
    "    coins_input = input(\"Masukkan nilai koin yang tersedia (pisahkan menggunakan spasi: \")\n",
    "    coins = list(map(int, coins_input.split()))\n",
    "\n",
    "    min_coin_change(amount, coins)\n",
    "\n",
    "except ValueError:\n",
    "    print(\"Input tidak valid. Pastikan untuk memasukkan angka.\")"
   ]
  },
  {
   "cell_type": "markdown",
   "metadata": {},
   "source": [
    "### Soal 8: Kombinasi String dan Manipulasi List\n",
    "**Soal**: Buat sebuah program yang menerima string dari pengguna dan mengonversi string tersebut menjadi sebuah list berisi kata-kata terbalik. Misalnya:\n",
    "```\n",
    "Input: \"Saya suka Python\"\n",
    "Output: [\"ayaS\", \"akus\", \"nohtyP\"]\n",
    "```\n"
   ]
  },
  {
   "cell_type": "code",
   "execution_count": 17,
   "metadata": {},
   "outputs": [
    {
     "name": "stdout",
     "output_type": "stream",
     "text": [
      "['ayas', 'akus', 'nohtyP']\n"
     ]
    }
   ],
   "source": [
    "def reverse_words(input_string):\n",
    "    words = input_string.split()\n",
    "    \n",
    "    reversed_words = [word[::-1] for word in words]\n",
    "    \n",
    "    return reversed_words\n",
    "\n",
    "input_string = input(\"Input string: \")\n",
    "\n",
    "output = reverse_words(input_string)\n",
    "print(output)"
   ]
  },
  {
   "cell_type": "markdown",
   "metadata": {},
   "source": [
    "### Soal 9: Konsep Class dan Object-Oriented Programming\n",
    "**Soal**: Buat class bernama `Buku` yang memiliki atribut `judul`, `penulis`, dan `tahun_terbit`. Buat method dalam class untuk menampilkan informasi buku, serta method untuk menghitung usia buku berdasarkan tahun saat ini. Buatlah 3 objek dari class `Buku` dan tampilkan informasi serta usia masing-masing buku.\n"
   ]
  },
  {
   "cell_type": "code",
   "execution_count": 18,
   "metadata": {},
   "outputs": [
    {
     "name": "stdout",
     "output_type": "stream",
     "text": [
      "Informasi dan Usia Buku 1:\n",
      "===========================\n",
      "Judul: Seni Bersikap Bodo Amat\n",
      "Penulis: Aurel Machiato\n",
      "Tahun Terbit: 2006\n",
      "Usia Buku: 18 tahun\n",
      "\n",
      "Informasi dan Usia Buku 2:\n",
      "===========================\n",
      "Judul: Resep Masakan\n",
      "Penulis: Dewanti Tiramisu\n",
      "Tahun Terbit: 1999\n",
      "Usia Buku: 25 tahun\n",
      "\n",
      "Informasi dan Usia Buku 3:\n",
      "===========================\n",
      "Judul: Belajar dengan baik dan benar\n",
      "Penulis: Vanilla Laksita\n",
      "Tahun Terbit: 2011\n",
      "Usia Buku: 13 tahun\n"
     ]
    }
   ],
   "source": [
    "from datetime import datetime\n",
    "\n",
    "class Buku:\n",
    "    def __init__(self, judul, penulis, tahun_terbit):\n",
    "        self.judul = judul\n",
    "        self.penulis = penulis\n",
    "        self.tahun_terbit = tahun_terbit\n",
    "\n",
    "    def tampilkan_informasi(self):\n",
    "        print(f\"Judul: {self.judul}\")\n",
    "        print(f\"Penulis: {self.penulis}\")\n",
    "        print(f\"Tahun Terbit: {self.tahun_terbit}\")\n",
    "\n",
    "    def hitung_usia_buku(self):\n",
    "        tahun_saat_ini = datetime.now().year\n",
    "        usia_buku = tahun_saat_ini - self.tahun_terbit\n",
    "        return usia_buku\n",
    "\n",
    "buku1 = Buku(\"Seni Bersikap Bodo Amat\", \"Aurel Machiato\", 2006)\n",
    "buku2 = Buku(\"Resep Masakan\", \"Dewanti Tiramisu\", 1999)\n",
    "buku3 = Buku(\"Belajar dengan baik dan benar\", \"Vanilla Laksita\", 2011)\n",
    "\n",
    "print(\"Informasi dan Usia Buku 1:\")\n",
    "print('=' * 27)\n",
    "buku1.tampilkan_informasi()\n",
    "usia_buku1 = buku1.hitung_usia_buku()\n",
    "print(f\"Usia Buku: {usia_buku1} tahun\")\n",
    "\n",
    "print(\"\\nInformasi dan Usia Buku 2:\")\n",
    "print('=' * 27)\n",
    "buku2.tampilkan_informasi()\n",
    "usia_buku2 = buku2.hitung_usia_buku()\n",
    "print(f\"Usia Buku: {usia_buku2} tahun\")\n",
    "\n",
    "print(\"\\nInformasi dan Usia Buku 3:\")\n",
    "print('=' * 27)\n",
    "buku3.tampilkan_informasi()\n",
    "usia_buku3 = buku3.hitung_usia_buku()\n",
    "print(f\"Usia Buku: {usia_buku3} tahun\")"
   ]
  },
  {
   "cell_type": "markdown",
   "metadata": {},
   "source": [
    "### Soal 10: Algoritma dengan Persyaratan Logika Khusus\n",
    "**Soal**: Buatlah program yang mengimplementasikan algoritma pencarian biner, namun dengan modifikasi: algoritma harus bisa mencari nilai di list yang hanya berisi angka genap, dan jika nilai yang dicari adalah angka ganjil, program harus menampilkan pesan bahwa nilai tersebut tidak bisa ditemukan.\n"
   ]
  },
  {
   "cell_type": "code",
   "execution_count": 21,
   "metadata": {},
   "outputs": [
    {
     "name": "stdout",
     "output_type": "stream",
     "text": [
      "Nilai 4 ditemukan pada indeks 1.\n"
     ]
    }
   ],
   "source": [
    "def binary_search(sorted_list, target):\n",
    "    left, right = 0, len(sorted_list) - 1\n",
    "    \n",
    "    while left <= right:\n",
    "        mid = (left + right) // 2\n",
    "        \n",
    "        if sorted_list[mid] == target:\n",
    "            return mid  \n",
    "        elif sorted_list[mid] < target:\n",
    "            left = mid + 1\n",
    "        else:\n",
    "            right = mid - 1\n",
    "            \n",
    "    return -1  \n",
    "\n",
    "def main():\n",
    "    \n",
    "    even_numbers = [2, 4, 6, 8, 10, 12, 14, 16, 18, 20]\n",
    "    \n",
    "\n",
    "    try:\n",
    "        target = int(input(\"Inputkan nilai yang dicari: \"))\n",
    "        \n",
    "        if target % 2 != 0:  \n",
    "            print(\"Nilai tersebut tidak bisa ditemukan karena merupakan nilai ganjil.\")\n",
    "        else:\n",
    "            index = binary_search(even_numbers, target)\n",
    "            if index != -1:\n",
    "                print(f\"Nilai {target} ditemukan pada indeks {index}.\")\n",
    "            else:\n",
    "                print(f\"Nilai {target} tidak ditemukan dalam daftar.\")\n",
    "    \n",
    "    except ValueError:\n",
    "        print(\"Input tidak valid. Pastikan untuk memasukkan nilai.\")\n",
    "\n",
    "if __name__ == \"__main__\":\n",
    "    main()"
   ]
  }
 ],
 "metadata": {
  "kernelspec": {
   "display_name": "base",
   "language": "python",
   "name": "python3"
  },
  "language_info": {
   "codemirror_mode": {
    "name": "ipython",
    "version": 3
   },
   "file_extension": ".py",
   "mimetype": "text/x-python",
   "name": "python",
   "nbconvert_exporter": "python",
   "pygments_lexer": "ipython3",
   "version": "3.11.5"
  }
 },
 "nbformat": 4,
 "nbformat_minor": 2
}
